{
 "cells": [
  {
   "cell_type": "code",
   "execution_count": 1,
   "metadata": {},
   "outputs": [
    {
     "name": "stderr",
     "output_type": "stream",
     "text": [
      "Using TensorFlow backend.\n"
     ]
    }
   ],
   "source": [
    "import numpy as np\n",
    "import matplotlib.pyplot as plt\n",
    "import keras "
   ]
  },
  {
   "cell_type": "code",
   "execution_count": 2,
   "metadata": {},
   "outputs": [],
   "source": [
    "from keras.layers import Lambda, Input, Dense\n",
    "from keras.models import Model\n",
    "from keras.losses import mse\n",
    "import tensorflow.keras.backend as K"
   ]
  },
  {
   "cell_type": "code",
   "execution_count": 3,
   "metadata": {},
   "outputs": [],
   "source": [
    "archs = np.array([[-1,-1],\n",
    "                  [2,-2],\n",
    "#                   [4,6],\n",
    "                  [-2,2]])"
   ]
  },
  {
   "cell_type": "code",
   "execution_count": 4,
   "metadata": {},
   "outputs": [],
   "source": [
    "X,Y = archs.T"
   ]
  },
  {
   "cell_type": "code",
   "execution_count": 5,
   "metadata": {},
   "outputs": [
    {
     "data": {
      "text/plain": [
       "<matplotlib.collections.PathCollection at 0x7f849a093510>"
      ]
     },
     "execution_count": 5,
     "metadata": {},
     "output_type": "execute_result"
    },
    {
     "data": {
      "image/png": "[encoded data removed]",
      "text/plain": [
       "<Figure size 432x288 with 1 Axes>"
      ]
     },
     "metadata": {
      "needs_background": "light"
     },
     "output_type": "display_data"
    }
   ],
   "source": [
    "plt.scatter(X,Y)"
   ]
  },
  {
   "cell_type": "code",
   "execution_count": 6,
   "metadata": {},
   "outputs": [],
   "source": [
    "def generate_data (archs, n_points, noise=0.1):\n",
    "    k = len(archs)\n",
    "    X,Y = archs.T \n",
    "    rand = np.random.uniform (0,1,[k,n_points])\n",
    "    rand = (rand/np.sum(rand,axis=0)).T\n",
    "    data = np.matmul(rand,archs)\n",
    "    data = data + np.random.normal(0,noise,size=data.shape)\n",
    "    return data"
   ]
  },
  {
   "cell_type": "code",
   "execution_count": 7,
   "metadata": {},
   "outputs": [
    {
     "data": {
      "text/plain": [
       "<matplotlib.collections.PathCollection at 0x7f849a093290>"
      ]
     },
     "execution_count": 7,
     "metadata": {},
     "output_type": "execute_result"
    },
    {
     "data": {
      "image/png": "[encoded data removed]",
      "text/plain": [
       "<Figure size 432x288 with 1 Axes>"
      ]
     },
     "metadata": {
      "needs_background": "light"
     },
     "output_type": "display_data"
    }
   ],
   "source": [
    "x_train = generate_data (archs,100000,noise=0.01)\n",
    "x_test = generate_data (archs,10000,noise=0.01)\n",
    "\n",
    "dataX,dataY = x_train.T\n",
    "plt.scatter(dataX,dataY)"
   ]
  },
  {
   "cell_type": "code",
   "execution_count": 8,
   "metadata": {},
   "outputs": [],
   "source": [
    "def sampling(args):\n",
    "    \"\"\"Reparameterization trick by sampling from an isotropic unit Gaussian.\n",
    "    # Arguments\n",
    "        args (tensor): mean and log of variance of Q(z|X)\n",
    "    # Returns\n",
    "        z (tensor): sampled latent vector\n",
    "    \"\"\"\n",
    "\n",
    "    z_mean, z_log_var = args\n",
    "    batch = K.shape(z_mean)[0]\n",
    "    dim = K.int_shape(z_mean)[1]\n",
    "    epsilon = K.random_normal(shape=(batch, dim),stddev=0.1)\n",
    "    return z_mean + K.exp(0.5 * z_log_var) * epsilon\n"
   ]
  },
  {
   "cell_type": "code",
   "execution_count": 9,
   "metadata": {},
   "outputs": [],
   "source": [
    "def A_Zfixed_prod ( A ):\n",
    "\n",
    "    dim_latent_space = A.get_shape().as_list()[1] - 1\n",
    "\n",
    "    z_fixed_t = np.zeros([dim_latent_space, dim_latent_space + 1])\n",
    "\n",
    "    for k in range(0, dim_latent_space):\n",
    "        s = 0.0\n",
    "        for i in range(0, k):\n",
    "            s = s + z_fixed_t[i, k] ** 2\n",
    "  \n",
    "        z_fixed_t[k, k] = np.sqrt(1.0 - s)\n",
    "\n",
    "        for j in range(k + 1, dim_latent_space + 1):\n",
    "            s = 0.0\n",
    "            for i in range(0, k):\n",
    "                s = s + z_fixed_t[i, k] * z_fixed_t[i, j]\n",
    "\n",
    "            z_fixed_t[k, j] = (-1.0 / float(dim_latent_space) - s) / z_fixed_t[k, k]\n",
    "            z_fixed = np.transpose(z_fixed_t)\n",
    "                \n",
    "    z_fixed_tens = K.constant(z_fixed)\n",
    "    \n",
    "    return K.dot (A,z_fixed_tens)\n",
    "    "
   ]
  },
  {
   "cell_type": "code",
   "execution_count": 10,
   "metadata": {
    "scrolled": true
   },
   "outputs": [
    {
     "name": "stdout",
     "output_type": "stream",
     "text": [
      "Model: \"encoder\"\n",
      "__________________________________________________________________________________________________\n",
      "Layer (type)                    Output Shape         Param #     Connected to                     \n",
      "==================================================================================================\n",
      "encoder_input (InputLayer)      (None, 2)            0                                            \n",
      "__________________________________________________________________________________________________\n",
      "dense_1 (Dense)                 (None, 64)           192         encoder_input[0][0]              \n",
      "__________________________________________________________________________________________________\n",
      "dense_2 (Dense)                 (None, 3)            195         dense_1[0][0]                    \n",
      "__________________________________________________________________________________________________\n",
      "mu (Lambda)                     (None, 2)            0           dense_2[0][0]                    \n",
      "__________________________________________________________________________________________________\n",
      "dense_3 (Dense)                 (None, 2)            130         dense_1[0][0]                    \n",
      "__________________________________________________________________________________________________\n",
      "t (Lambda)                      (None, 2)            0           mu[0][0]                         \n",
      "                                                                 dense_3[0][0]                    \n",
      "==================================================================================================\n",
      "Total params: 517\n",
      "Trainable params: 517\n",
      "Non-trainable params: 0\n",
      "__________________________________________________________________________________________________\n",
      "Model: \"decoder\"\n",
      "_________________________________________________________________\n",
      "Layer (type)                 Output Shape              Param #   \n",
      "=================================================================\n",
      "z_sampling (InputLayer)      (None, 2)                 0         \n",
      "_________________________________________________________________\n",
      "dense_4 (Dense)              (None, 64)                192       \n",
      "_________________________________________________________________\n",
      "dense_5 (Dense)              (None, 2)                 130       \n",
      "=================================================================\n",
      "Total params: 322\n",
      "Trainable params: 322\n",
      "Non-trainable params: 0\n",
      "_________________________________________________________________\n",
      "Model: \"vae\"\n",
      "_________________________________________________________________\n",
      "Layer (type)                 Output Shape              Param #   \n",
      "=================================================================\n",
      "encoder_input (InputLayer)   (None, 2)                 0         \n",
      "_________________________________________________________________\n",
      "encoder (Model)              [(None, 2), (None, 2), (N 517       \n",
      "_________________________________________________________________\n",
      "decoder (Model)              (None, 2)                 322       \n",
      "=================================================================\n",
      "Total params: 839\n",
      "Trainable params: 839\n",
      "Non-trainable params: 0\n",
      "_________________________________________________________________\n"
     ]
    },
    {
     "name": "stderr",
     "output_type": "stream",
     "text": [
      "/home/sbailo/anaconda3/envs/archetypes/lib/python3.7/site-packages/keras/engine/training_utils.py:819: UserWarning: Output decoder missing from loss dictionary. We assume this was done on purpose. The fit and evaluate APIs will not be expecting any data to be passed to decoder.\n",
      "  'be expecting any data to be passed to {0}.'.format(name))\n"
     ]
    },
    {
     "name": "stdout",
     "output_type": "stream",
     "text": [
      "Train on 100000 samples, validate on 10000 samples\n",
      "Epoch 1/20\n",
      "100000/100000 [==============================] - 2s 21us/step - loss: 0.1240 - val_loss: 0.0528\n",
      "Epoch 2/20\n",
      "100000/100000 [==============================] - 1s 13us/step - loss: 0.0480 - val_loss: 0.0445\n",
      "Epoch 3/20\n",
      "100000/100000 [==============================] - 1s 13us/step - loss: 0.0428 - val_loss: 0.0422\n",
      "Epoch 4/20\n",
      "100000/100000 [==============================] - 1s 13us/step - loss: 0.0413 - val_loss: 0.0409\n",
      "Epoch 5/20\n",
      "100000/100000 [==============================] - 1s 13us/step - loss: 0.0405 - val_loss: 0.0404\n",
      "Epoch 6/20\n",
      "100000/100000 [==============================] - 1s 14us/step - loss: 0.0399 - val_loss: 0.0408\n",
      "Epoch 7/20\n",
      "100000/100000 [==============================] - 2s 19us/step - loss: 0.0398 - val_loss: 0.0395\n",
      "Epoch 8/20\n",
      "100000/100000 [==============================] - 2s 21us/step - loss: 0.0394 - val_loss: 0.0395\n",
      "Epoch 9/20\n",
      "100000/100000 [==============================] - 1s 14us/step - loss: 0.0393 - val_loss: 0.0392\n",
      "Epoch 10/20\n",
      "100000/100000 [==============================] - 2s 16us/step - loss: 0.0390 - val_loss: 0.0395\n",
      "Epoch 11/20\n",
      "100000/100000 [==============================] - 1s 15us/step - loss: 0.0389 - val_loss: 0.0394\n",
      "Epoch 12/20\n",
      "100000/100000 [==============================] - 1s 14us/step - loss: 0.0389 - val_loss: 0.0386\n",
      "Epoch 13/20\n",
      "100000/100000 [==============================] - 2s 19us/step - loss: 0.0389 - val_loss: 0.0391\n",
      "Epoch 14/20\n",
      "100000/100000 [==============================] - 1s 15us/step - loss: 0.0387 - val_loss: 0.0390\n",
      "Epoch 15/20\n",
      "100000/100000 [==============================] - 1s 15us/step - loss: 0.0386 - val_loss: 0.0389\n",
      "Epoch 16/20\n",
      "100000/100000 [==============================] - 2s 16us/step - loss: 0.0387 - val_loss: 0.0391\n",
      "Epoch 17/20\n",
      "100000/100000 [==============================] - 1s 15us/step - loss: 0.0385 - val_loss: 0.0394\n",
      "Epoch 18/20\n",
      "100000/100000 [==============================] - 1s 15us/step - loss: 0.0385 - val_loss: 0.0385\n",
      "Epoch 19/20\n",
      "100000/100000 [==============================] - 1s 15us/step - loss: 0.0384 - val_loss: 0.0387\n",
      "Epoch 20/20\n",
      "100000/100000 [==============================] - 1s 13us/step - loss: 0.0387 - val_loss: 0.0375\n"
     ]
    },
    {
     "data": {
      "text/plain": [
       "<keras.callbacks.callbacks.History at 0x7f84984851d0>"
      ]
     },
     "execution_count": 10,
     "metadata": {},
     "output_type": "execute_result"
    }
   ],
   "source": [
    "original_dim = x_train.shape[1]\n",
    "x_train = np.reshape(x_train, [-1, original_dim])\n",
    "x_test = np.reshape(x_test, [-1, original_dim])\n",
    "\n",
    "# network parameters\n",
    "input_shape = (original_dim, )\n",
    "intermediate_dim = 64\n",
    "batch_size = 256\n",
    "latent_dim = 2\n",
    "simplex_vrtxs = latent_dim + 1\n",
    "epochs = 20\n",
    "\n",
    "inputs = Input(shape=input_shape, name='encoder_input')\n",
    "\n",
    "x = Dense(intermediate_dim, activation='relu')(inputs)\n",
    "A = Dense (simplex_vrtxs, activation=K.softmax)(x)\n",
    "\n",
    "mu = Lambda (A_Zfixed_prod, output_shape=(latent_dim,), name='mu' )(A)\n",
    "\n",
    "# B_t = Dense (simplex_vrtxs)(encoded_input)\n",
    "# B = tf.nn.softmax(tf.transpose(weights_B_t), axis=1)\n",
    "# z_pred = tf.matmul(B,mu)\n",
    "\n",
    "sigma = Dense(latent_dim, activation=K.softplus)(x)\n",
    "t = Lambda(sampling, output_shape=(latent_dim,), name='t')([mu, sigma])\n",
    "\n",
    "encoder = Model(inputs, [t,mu,sigma], name='encoder')\n",
    "encoder.summary()\n",
    "\n",
    "# use reparameterization trick to push the sampling out as input\n",
    "# note that \"output_shape\" isn't necessary with the TensorFlow backend\n",
    "\n",
    "# build decoder model\n",
    "latent_inputs = Input(shape=(latent_dim,), name='z_sampling')\n",
    "x = Dense(intermediate_dim, activation='relu')(latent_inputs)\n",
    "outputs = Dense(original_dim, activation='linear')(x)\n",
    "\n",
    "# instantiate decoder model\n",
    "decoder = Model(latent_inputs, outputs, name='decoder')\n",
    "decoder.summary()\n",
    "\n",
    "# instantiate VAE model\n",
    "outputs = decoder(encoder(inputs)[0])\n",
    "vae = Model(inputs, outputs, name='vae')\n",
    "\n",
    "reconstruction_loss = mse(inputs, outputs)\n",
    "\n",
    "kl_loss = 1 + sigma - K.square(mu) - K.exp(sigma)\n",
    "kl_loss = K.sum(kl_loss, axis=-1)\n",
    "kl_loss *= -0.5\n",
    "beta = 0.1\n",
    "vae_loss = K.mean(reconstruction_loss + beta*kl_loss)\n",
    "vae.add_loss(vae_loss)\n",
    "vae.compile(optimizer='adam')\n",
    "vae.summary()\n",
    "\n",
    "vae.fit(x_train, y=None,\n",
    "        epochs=epochs,\n",
    "        batch_size=batch_size,\n",
    "        validation_data=(x_test, None))\n"
   ]
  },
  {
   "cell_type": "code",
   "execution_count": 11,
   "metadata": {},
   "outputs": [
    {
     "data": {
      "text/plain": [
       "<matplotlib.collections.PathCollection at 0x7f8498523c10>"
      ]
     },
     "execution_count": 11,
     "metadata": {},
     "output_type": "execute_result"
    },
    {
     "data": {
      "image/png": "[encoded data removed]",
      "text/plain": [
       "<Figure size 432x288 with 1 Axes>"
      ]
     },
     "metadata": {
      "needs_background": "light"
     },
     "output_type": "display_data"
    }
   ],
   "source": [
    "x_pred = encoder.predict(x_train)\n",
    "dataX,dataY = x_pred[0].T\n",
    "plt.scatter(dataX,dataY)\n"
   ]
  },
  {
   "cell_type": "code",
   "execution_count": 12,
   "metadata": {},
   "outputs": [
    {
     "data": {
      "text/plain": [
       "<matplotlib.collections.PathCollection at 0x7f8498523c50>"
      ]
     },
     "execution_count": 12,
     "metadata": {},
     "output_type": "execute_result"
    },
    {
     "data": {
      "image/png": "[encoded data removed]",
      "text/plain": [
       "<Figure size 432x288 with 1 Axes>"
      ]
     },
     "metadata": {
      "needs_background": "light"
     },
     "output_type": "display_data"
    }
   ],
   "source": [
    "x_pred = encoder.predict(x_train)\n",
    "dataX,dataY = x_pred[1].T\n",
    "plt.scatter(dataX,dataY)\n"
   ]
  },
  {
   "cell_type": "code",
   "execution_count": 13,
   "metadata": {},
   "outputs": [
    {
     "data": {
      "text/plain": [
       "<matplotlib.collections.PathCollection at 0x7f8488159d10>"
      ]
     },
     "execution_count": 13,
     "metadata": {},
     "output_type": "execute_result"
    },
    {
     "data": {
      "image/png": "[encoded data removed]",
      "text/plain": [
       "<Figure size 432x288 with 1 Axes>"
      ]
     },
     "metadata": {
      "needs_background": "light"
     },
     "output_type": "display_data"
    }
   ],
   "source": [
    "x_pred = encoder.predict(x_train)\n",
    "dataX,dataY = x_pred[2].T\n",
    "plt.scatter(dataX,dataY)\n"
   ]
  },
  {
   "cell_type": "code",
   "execution_count": 14,
   "metadata": {},
   "outputs": [
    {
     "data": {
      "text/plain": [
       "<matplotlib.collections.PathCollection at 0x7f84703163d0>"
      ]
     },
     "execution_count": 14,
     "metadata": {},
     "output_type": "execute_result"
    },
    {
     "data": {
      "image/png": "[encoded data removed]",
      "text/plain": [
       "<Figure size 432x288 with 1 Axes>"
      ]
     },
     "metadata": {
      "needs_background": "light"
     },
     "output_type": "display_data"
    }
   ],
   "source": [
    "x_pred = vae.predict(x_train)\n",
    "dataX,dataY = x_pred.T\n",
    "plt.scatter(dataX,dataY)\n"
   ]
  },
  {
   "cell_type": "code",
   "execution_count": 15,
   "metadata": {},
   "outputs": [
    {
     "data": {
      "text/plain": [
       "<matplotlib.collections.PathCollection at 0x7f847029b850>"
      ]
     },
     "execution_count": 15,
     "metadata": {},
     "output_type": "execute_result"
    },
    {
     "data": {
      "image/png": "[encoded data removed]",
      "text/plain": [
       "<Figure size 432x288 with 1 Axes>"
      ]
     },
     "metadata": {
      "needs_background": "light"
     },
     "output_type": "display_data"
    }
   ],
   "source": [
    "x_pred = vae.predict(x_test)\n",
    "dataX,dataY = x_pred.T\n",
    "plt.scatter(dataX,dataY)\n"
   ]
  },
  {
   "cell_type": "code",
   "execution_count": null,
   "metadata": {},
   "outputs": [],
   "source": []
  }
 ],
 "metadata": {
  "kernelspec": {
   "display_name": "Python 3",
   "language": "python",
   "name": "python3"
  },
  "language_info": {
   "codemirror_mode": {
    "name": "ipython",
    "version": 3
   },
   "file_extension": ".py",
   "mimetype": "text/x-python",
   "name": "python",
   "nbconvert_exporter": "python",
   "pygments_lexer": "ipython3",
   "version": "3.7.6"
  }
 },
 "nbformat": 4,
 "nbformat_minor": 4
}
