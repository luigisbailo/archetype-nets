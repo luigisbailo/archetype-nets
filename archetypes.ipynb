{
 "cells": [
  {
   "cell_type": "code",
   "execution_count": 1,
   "metadata": {},
   "outputs": [],
   "source": [
    "import numpy as np\n",
    "import matplotlib.pyplot as plt\n"
   ]
  },
  {
   "cell_type": "code",
   "execution_count": 2,
   "metadata": {},
   "outputs": [],
   "source": [
    "import tensorflow as tf\n",
    "from tensorflow.keras.layers import Lambda, Input, Dense\n",
    "from tensorflow.keras.models import Model\n",
    "from tensorflow.keras.losses import mse"
   ]
  },
  {
   "cell_type": "code",
   "execution_count": 3,
   "metadata": {},
   "outputs": [],
   "source": [
    "archs = np.array([[-1,-1],\n",
    "                  [2,-2],\n",
    "                  [-2,2]])"
   ]
  },
  {
   "cell_type": "code",
   "execution_count": 4,
   "metadata": {},
   "outputs": [],
   "source": [
    "X,Y = archs.T"
   ]
  },
  {
   "cell_type": "code",
   "execution_count": 5,
   "metadata": {},
   "outputs": [
    {
     "data": {
      "text/plain": [
       "<matplotlib.collections.PathCollection at 0x7fa7e082e710>"
      ]
     },
     "execution_count": 5,
     "metadata": {},
     "output_type": "execute_result"
    },
    {
     "data": {
      "image/png": "[encoded data removed]",
      "text/plain": [
       "<Figure size 432x288 with 1 Axes>"
      ]
     },
     "metadata": {
      "needs_background": "light"
     },
     "output_type": "display_data"
    }
   ],
   "source": [
    "plt.scatter(X,Y)"
   ]
  },
  {
   "cell_type": "code",
   "execution_count": 6,
   "metadata": {},
   "outputs": [],
   "source": [
    "def generate_data (archs, n_points, noise=0.1):\n",
    "    k = len(archs)\n",
    "    X,Y = archs.T \n",
    "    rand = np.random.uniform (0,1,[k,n_points])\n",
    "    rand = (rand/np.sum(rand,axis=0)).T\n",
    "    data = np.matmul(rand,archs)\n",
    "    data = data + np.random.normal(0,noise,size=data.shape)\n",
    "    return data"
   ]
  },
  {
   "cell_type": "code",
   "execution_count": 7,
   "metadata": {},
   "outputs": [
    {
     "data": {
      "text/plain": [
       "<matplotlib.collections.PathCollection at 0x7fa7e07a6b10>"
      ]
     },
     "execution_count": 7,
     "metadata": {},
     "output_type": "execute_result"
    },
    {
     "data": {
      "image/png": "[encoded data removed]",
      "text/plain": [
       "<Figure size 432x288 with 1 Axes>"
      ]
     },
     "metadata": {
      "needs_background": "light"
     },
     "output_type": "display_data"
    }
   ],
   "source": [
    "x_train = generate_data (archs,100000,noise=0.01)\n",
    "x_test = generate_data (archs,10000,noise=0.01)\n",
    "\n",
    "dataX,dataY = x_train.T\n",
    "plt.scatter(dataX,dataY)"
   ]
  },
  {
   "cell_type": "code",
   "execution_count": 48,
   "metadata": {},
   "outputs": [],
   "source": [
    "def get_zfixed ( dim_latent_space ):\n",
    "    \n",
    "    z_fixed_t = np.zeros([dim_latent_space, dim_latent_space + 1])\n",
    "\n",
    "    for k in range(0, dim_latent_space):\n",
    "        s = 0.0\n",
    "        for i in range(0, k):\n",
    "            s = s + z_fixed_t[i, k] ** 2\n",
    "  \n",
    "        z_fixed_t[k, k] = np.sqrt(1.0 - s)\n",
    "\n",
    "        for j in range(k + 1, dim_latent_space + 1):\n",
    "            s = 0.0\n",
    "            for i in range(0, k):\n",
    "                s = s + z_fixed_t[i, k] * z_fixed_t[i, j]\n",
    "\n",
    "            z_fixed_t[k, j] = (-1.0 / float(dim_latent_space) - s) / z_fixed_t[k, k]\n",
    "            z_fixed = np.transpose(z_fixed_t)\n",
    "                    \n",
    "    return z_fixed\n"
   ]
  },
  {
   "cell_type": "code",
   "execution_count": 52,
   "metadata": {},
   "outputs": [],
   "source": [
    "def sampling(args):\n",
    "    \n",
    "    z_mean, z_log_var = args\n",
    "    batch = tf.shape(z_mean)[0]\n",
    "    dim = tf.shape(z_mean)[1]\n",
    "    epsilon = tf.random.normal(shape=(batch, dim),stddev=0.01)\n",
    "\n",
    "    return z_mean + tf.exp(0.5 * z_log_var) * epsilon\n"
   ]
  },
  {
   "cell_type": "code",
   "execution_count": null,
   "metadata": {
    "scrolled": true
   },
   "outputs": [
    {
     "name": "stdout",
     "output_type": "stream",
     "text": [
      "Model: \"encoder\"\n",
      "__________________________________________________________________________________________________\n",
      "Layer (type)                    Output Shape         Param #     Connected to                     \n",
      "==================================================================================================\n",
      "encoder_input (InputLayer)      [(None, 2)]          0                                            \n",
      "__________________________________________________________________________________________________\n",
      "dense_121 (Dense)               (None, 16)           48          encoder_input[0][0]              \n",
      "__________________________________________________________________________________________________\n",
      "dense_122 (Dense)               (None, 3)            51          dense_121[0][0]                  \n",
      "__________________________________________________________________________________________________\n",
      "tf_op_layer_MatMul_35 (TensorFl [(None, 2)]          0           dense_122[0][0]                  \n",
      "__________________________________________________________________________________________________\n",
      "dense_124 (Dense)               (None, 2)            34          dense_121[0][0]                  \n",
      "__________________________________________________________________________________________________\n",
      "t (Lambda)                      (None, 2)            0           tf_op_layer_MatMul_35[0][0]      \n",
      "                                                                 dense_124[0][0]                  \n",
      "==================================================================================================\n",
      "Total params: 133\n",
      "Trainable params: 133\n",
      "Non-trainable params: 0\n",
      "__________________________________________________________________________________________________\n",
      "Model: \"decoder\"\n",
      "_________________________________________________________________\n",
      "Layer (type)                 Output Shape              Param #   \n",
      "=================================================================\n",
      "z_sampling (InputLayer)      [(None, 2)]               0         \n",
      "_________________________________________________________________\n",
      "dense_125 (Dense)            (None, 16)                48        \n",
      "_________________________________________________________________\n",
      "dense_126 (Dense)            (None, 2)                 34        \n",
      "=================================================================\n",
      "Total params: 82\n",
      "Trainable params: 82\n",
      "Non-trainable params: 0\n",
      "_________________________________________________________________\n",
      "WARNING:tensorflow:Output decoder missing from loss dictionary. We assume this was done on purpose. The fit and evaluate APIs will not be expecting any data to be passed to decoder.\n",
      "Model: \"vae\"\n",
      "__________________________________________________________________________________________________\n",
      "Layer (type)                    Output Shape         Param #     Connected to                     \n",
      "==================================================================================================\n",
      "encoder_input (InputLayer)      [(None, 2)]          0                                            \n",
      "__________________________________________________________________________________________________\n",
      "encoder (Model)                 [(None, 2), (None, 2 133         encoder_input[0][0]              \n",
      "__________________________________________________________________________________________________\n",
      "decoder (Model)                 (None, 2)            82          encoder[1][0]                    \n",
      "__________________________________________________________________________________________________\n",
      "dense_121 (Dense)               (None, 16)           48          encoder_input[0][0]              \n",
      "__________________________________________________________________________________________________\n",
      "dense_122 (Dense)               (None, 3)            51          dense_121[0][0]                  \n",
      "__________________________________________________________________________________________________\n",
      "dense_124 (Dense)               (None, 2)            34          dense_121[0][0]                  \n",
      "__________________________________________________________________________________________________\n",
      "tf_op_layer_MatMul_35 (TensorFl multiple             0           dense_122[0][0]                  \n",
      "__________________________________________________________________________________________________\n",
      "tf_op_layer_add_18 (TensorFlowO [(None, 2)]          0           dense_124[0][0]                  \n",
      "__________________________________________________________________________________________________\n",
      "tf_op_layer_Square_9 (TensorFlo [(None, 2)]          0           tf_op_layer_MatMul_35[0][0]      \n",
      "__________________________________________________________________________________________________\n",
      "tf_op_layer_sub_18 (TensorFlowO [(None, 2)]          0           tf_op_layer_add_18[0][0]         \n",
      "                                                                 tf_op_layer_Square_9[0][0]       \n",
      "__________________________________________________________________________________________________\n",
      "tf_op_layer_Exp_9 (TensorFlowOp [(None, 2)]          0           dense_124[0][0]                  \n",
      "__________________________________________________________________________________________________\n",
      "tf_op_layer_sub_19 (TensorFlowO [(None, 2)]          0           tf_op_layer_sub_18[0][0]         \n",
      "                                                                 tf_op_layer_Exp_9[0][0]          \n",
      "__________________________________________________________________________________________________\n",
      "tf_op_layer_Sum_12 (TensorFlowO [(None,)]            0           tf_op_layer_sub_19[0][0]         \n",
      "__________________________________________________________________________________________________\n",
      "tf_op_layer_SquaredDifference_1 [(None, 2)]          0           decoder[1][0]                    \n",
      "                                                                 encoder_input[0][0]              \n",
      "__________________________________________________________________________________________________\n",
      "tf_op_layer_mul_13 (TensorFlowO [(None,)]            0           tf_op_layer_Sum_12[0][0]         \n",
      "__________________________________________________________________________________________________\n",
      "tf_op_layer_Mean_19 (TensorFlow [(None,)]            0           tf_op_layer_SquaredDifference_14[\n",
      "__________________________________________________________________________________________________\n",
      "tf_op_layer_mul_14 (TensorFlowO [(None,)]            0           tf_op_layer_mul_13[0][0]         \n",
      "__________________________________________________________________________________________________\n",
      "tf_op_layer_add_19 (TensorFlowO [(None,)]            0           tf_op_layer_Mean_19[0][0]        \n",
      "                                                                 tf_op_layer_mul_14[0][0]         \n",
      "__________________________________________________________________________________________________\n",
      "tf_op_layer_Mean_21 (TensorFlow [()]                 0           tf_op_layer_add_19[0][0]         \n",
      "__________________________________________________________________________________________________\n",
      "add_loss_5 (AddLoss)            ()                   0           tf_op_layer_Mean_21[0][0]        \n",
      "==================================================================================================\n",
      "Total params: 215\n",
      "Trainable params: 215\n",
      "Non-trainable params: 0\n",
      "__________________________________________________________________________________________________\n",
      "Train on 100000 samples, validate on 10000 samples\n",
      "Epoch 1/20\n",
      "100000/100000 [==============================] - 3s 28us/sample - loss: 0.1521 - val_loss: 0.0460\n",
      "Epoch 2/20\n",
      "100000/100000 [==============================] - 2s 23us/sample - loss: 0.0236 - val_loss: 0.0156\n",
      "Epoch 3/20\n",
      "100000/100000 [==============================] - 2s 19us/sample - loss: 0.0137 - val_loss: 0.0126\n",
      "Epoch 4/20\n",
      "100000/100000 [==============================] - 2s 21us/sample - loss: 0.0121 - val_loss: 0.0117\n",
      "Epoch 5/20\n",
      "100000/100000 [==============================] - 2s 21us/sample - loss: 0.0116 - val_loss: 0.0115\n",
      "Epoch 6/20\n",
      "100000/100000 [==============================] - 2s 21us/sample - loss: 0.0115 - val_loss: 0.0114\n"
     ]
    },
    {
     "name": "stdout",
     "output_type": "stream",
     "text": [
      "Epoch 7/20\n",
      "100000/100000 [==============================] - 2s 19us/sample - loss: 0.0115 - val_loss: 0.0115\n",
      "Epoch 8/20\n",
      "100000/100000 [==============================] - 3s 26us/sample - loss: 0.0114 - val_loss: 0.0115\n",
      "Epoch 9/20\n",
      "100000/100000 [==============================] - 2s 22us/sample - loss: 0.0114 - val_loss: 0.0115\n",
      "Epoch 10/20\n",
      "100000/100000 [==============================] - 2s 20us/sample - loss: 0.0114 - val_loss: 0.0114\n",
      "Epoch 11/20\n",
      "100000/100000 [==============================] - 2s 17us/sample - loss: 0.0114 - val_loss: 0.0115\n",
      "Epoch 12/20\n",
      "100000/100000 [==============================] - 2s 17us/sample - loss: 0.0114 - val_loss: 0.0114\n",
      "Epoch 13/20\n",
      "100000/100000 [==============================] - 2s 23us/sample - loss: 0.0114 - val_loss: 0.0114\n",
      "Epoch 14/20\n",
      "100000/100000 [==============================] - 2s 18us/sample - loss: 0.0114 - val_loss: 0.0114\n",
      "Epoch 15/20\n",
      "100000/100000 [==============================] - 2s 16us/sample - loss: 0.0113 - val_loss: 0.0114\n",
      "Epoch 16/20\n",
      "100000/100000 [==============================] - 2s 18us/sample - loss: 0.0113 - val_loss: 0.0114\n",
      "Epoch 17/20\n",
      "100000/100000 [==============================] - 2s 21us/sample - loss: 0.0113 - val_loss: 0.0113\n",
      "Epoch 18/20\n",
      " 18432/100000 [====>.........................] - ETA: 1s - loss: 0.0113"
     ]
    }
   ],
   "source": [
    "original_dim = x_train.shape[1]\n",
    "x_train = np.reshape(x_train, [-1, original_dim])\n",
    "x_test = np.reshape(x_test, [-1, original_dim])\n",
    "\n",
    "# network parameters\n",
    "input_shape = (original_dim, )\n",
    "intermediate_dim = 16\n",
    "batch_size = 256\n",
    "latent_dim = 2\n",
    "simplex_vrtxs = latent_dim + 1\n",
    "epochs = 20\n",
    "\n",
    "\n",
    "# encoder\n",
    "inputs = Input(shape=input_shape, name='encoder_input')\n",
    "x_enc = Dense(intermediate_dim, activation='relu')(inputs)\n",
    "A = Dense (simplex_vrtxs, activation=tf.nn.softmax)(x_enc)\n",
    "B_t = Dense (simplex_vrtxs)(x_enc)\n",
    "B = tf.nn.softmax(tf.transpose(B_t), axis=1)\n",
    "\n",
    "z_fixed = get_zfixed (latent_dim)\n",
    "z_fixed = tf.constant (z_fixed, dtype='float32')\n",
    "mu = tf.matmul(A, z_fixed)\n",
    "z_pred = tf.matmul(B,mu)\n",
    "sigma = Dense(latent_dim)(x_enc)\n",
    "t = Lambda(sampling, name='t')([mu, sigma])\n",
    "encoder = Model(inputs, [t,mu,sigma], name='encoder')\n",
    "encoder.summary()\n",
    "\n",
    "# decoder\n",
    "latent_inputs = Input(shape=(latent_dim,), name='z_sampling')\n",
    "x_dec = Dense(intermediate_dim, activation='relu')(latent_inputs)\n",
    "\n",
    "outputs = Dense(original_dim, activation='linear')(x_dec)\n",
    "decoder = Model(latent_inputs, outputs, name='decoder')\n",
    "decoder.summary()\n",
    "\n",
    "# VAE\n",
    "outputs = decoder(encoder(inputs)[0])\n",
    "vae = Model(inputs, outputs, name='vae')\n",
    "\n",
    "\n",
    "reconstruction_loss = mse(inputs, outputs)\n",
    "archetype_loss = tf.reduce_sum(mse(z_fixed, z_pred))\n",
    "\n",
    "kl_loss = 1 + sigma - tf.square(mu) - tf.exp(sigma)\n",
    "kl_loss = tf.reduce_sum(kl_loss, axis=-1)\n",
    "kl_loss *= -0.5\n",
    "beta = 1\n",
    "\n",
    "\n",
    "vae_loss = tf.reduce_mean(reconstruction_loss + beta*kl_loss) # + archetype_loss)\n",
    "vae.add_loss(vae_loss)\n",
    "vae.compile(optimizer='adam')\n",
    "vae.summary()\n",
    "\n",
    "\n",
    "vae.fit(x_train, y=None,\n",
    "        epochs=epochs,\n",
    "        batch_size=batch_size,\n",
    "        validation_data=(x_test, None))\n"
   ]
  },
  {
   "cell_type": "code",
   "execution_count": 66,
   "metadata": {},
   "outputs": [
    {
     "data": {
      "text/plain": [
       "<matplotlib.collections.PathCollection at 0x7fa7346717d0>"
      ]
     },
     "execution_count": 66,
     "metadata": {},
     "output_type": "execute_result"
    },
    {
     "data": {
      "image/png": "[encoded data removed]",
      "text/plain": [
       "<Figure size 432x288 with 1 Axes>"
      ]
     },
     "metadata": {
      "needs_background": "light"
     },
     "output_type": "display_data"
    }
   ],
   "source": [
    "x_pred = encoder.predict(x_train)\n",
    "dataX,dataY = x_pred[0].T\n",
    "plt.scatter(dataX,dataY)\n"
   ]
  },
  {
   "cell_type": "code",
   "execution_count": 67,
   "metadata": {},
   "outputs": [
    {
     "data": {
      "text/plain": [
       "<matplotlib.collections.PathCollection at 0x7fa7345bc9d0>"
      ]
     },
     "execution_count": 67,
     "metadata": {},
     "output_type": "execute_result"
    },
    {
     "data": {
      "image/png": "[encoded data removed]",
      "text/plain": [
       "<Figure size 432x288 with 1 Axes>"
      ]
     },
     "metadata": {
      "needs_background": "light"
     },
     "output_type": "display_data"
    }
   ],
   "source": [
    "x_pred = encoder.predict(x_train)\n",
    "dataX,dataY = x_pred[1].T\n",
    "plt.scatter(dataX,dataY)\n"
   ]
  },
  {
   "cell_type": "code",
   "execution_count": 68,
   "metadata": {},
   "outputs": [
    {
     "data": {
      "text/plain": [
       "<matplotlib.collections.PathCollection at 0x7fa7345abf90>"
      ]
     },
     "execution_count": 68,
     "metadata": {},
     "output_type": "execute_result"
    },
    {
     "data": {
      "image/png": "[encoded data removed]",
      "text/plain": [
       "<Figure size 432x288 with 1 Axes>"
      ]
     },
     "metadata": {
      "needs_background": "light"
     },
     "output_type": "display_data"
    }
   ],
   "source": [
    "x_pred = encoder.predict(x_train)\n",
    "dataX,dataY = x_pred[2].T\n",
    "plt.scatter(dataX,dataY)\n"
   ]
  },
  {
   "cell_type": "code",
   "execution_count": 69,
   "metadata": {},
   "outputs": [
    {
     "data": {
      "text/plain": [
       "<matplotlib.collections.PathCollection at 0x7fa73448f310>"
      ]
     },
     "execution_count": 69,
     "metadata": {},
     "output_type": "execute_result"
    },
    {
     "data": {
      "image/png": "[encoded data removed]",
      "text/plain": [
       "<Figure size 432x288 with 1 Axes>"
      ]
     },
     "metadata": {
      "needs_background": "light"
     },
     "output_type": "display_data"
    }
   ],
   "source": [
    "x_pred = vae.predict(x_train)\n",
    "dataX,dataY = x_pred.T\n",
    "plt.scatter(dataX,dataY)\n"
   ]
  },
  {
   "cell_type": "code",
   "execution_count": 70,
   "metadata": {},
   "outputs": [
    {
     "data": {
      "text/plain": [
       "<matplotlib.collections.PathCollection at 0x7fa734452c50>"
      ]
     },
     "execution_count": 70,
     "metadata": {},
     "output_type": "execute_result"
    },
    {
     "data": {
      "image/png": "[encoded data removed]",
      "text/plain": [
       "<Figure size 432x288 with 1 Axes>"
      ]
     },
     "metadata": {
      "needs_background": "light"
     },
     "output_type": "display_data"
    }
   ],
   "source": [
    "x_pred = vae.predict(x_test)\n",
    "dataX,dataY = x_pred.T\n",
    "plt.scatter(dataX,dataY)\n"
   ]
  },
  {
   "cell_type": "code",
   "execution_count": null,
   "metadata": {},
   "outputs": [],
   "source": []
  }
 ],
 "metadata": {
  "kernelspec": {
   "display_name": "Python 3",
   "language": "python",
   "name": "python3"
  },
  "language_info": {
   "codemirror_mode": {
    "name": "ipython",
    "version": 3
   },
   "file_extension": ".py",
   "mimetype": "text/x-python",
   "name": "python",
   "nbconvert_exporter": "python",
   "pygments_lexer": "ipython3",
   "version": "3.7.6"
  }
 },
 "nbformat": 4,
 "nbformat_minor": 4
}
